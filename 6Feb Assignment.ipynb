{
 "cells": [
  {
   "cell_type": "code",
   "execution_count": 2,
   "id": "3f27bdfa-b21f-4030-80cc-3c7f3a41856e",
   "metadata": {},
   "outputs": [],
   "source": [
    "def Encrypt(str1):\n",
    "    st = str1.replace(\"a\",\"z\").replace(\"b\",\"y\").replace(\"c\",\"x\").replace(\" \",\"$\")\n",
    "    return st"
   ]
  },
  {
   "cell_type": "code",
   "execution_count": 3,
   "id": "81701b55-4a18-45c3-a756-2e53bbb688c5",
   "metadata": {},
   "outputs": [
    {
     "data": {
      "text/plain": [
       "'I$wznt$to$yexome$z$Dztz$Sxientist'"
      ]
     },
     "execution_count": 3,
     "metadata": {},
     "output_type": "execute_result"
    }
   ],
   "source": [
    "Encrypt(\"I want to become a Data Scientist\")"
   ]
  },
  {
   "cell_type": "code",
   "execution_count": 4,
   "id": "5a5c6792-2b90-44af-9c0c-717e793401d5",
   "metadata": {},
   "outputs": [],
   "source": [
    "list1 = [1,2,3,4, [44,55,66, True], False, (34,56,78,89,34), {1,2,3,3,2,1}, {1:34, \"key2\": [55, 67, 78, 89], 4: (45,\n",
    "22, 61, 34)}, [56, 'data science'], 'Machine Learning']"
   ]
  },
  {
   "cell_type": "code",
   "execution_count": 32,
   "id": "982a47a9-c6a5-45f5-81a3-eb98af1dd1cf",
   "metadata": {},
   "outputs": [],
   "source": [
    "lst = []\n",
    "for j in list1:\n",
    "    if type(j)==int:\n",
    "        lst.append(j)\n",
    "    elif type(j)==list:\n",
    "        for i in j:\n",
    "            lst.append(i)\n",
    "    elif type(j)==bool:\n",
    "        lst.append(j)\n",
    "    elif type(j)==tuple:\n",
    "        for i in j:\n",
    "            lst.append(i)\n",
    "    elif type(j)==set:\n",
    "        for i in j:\n",
    "            lst.append(i)\n",
    "    elif type(j)==dict:\n",
    "        for i in j:\n",
    "            if type(j[i])==list:\n",
    "                for x in j[i]:\n",
    "                    lst.append(x)\n",
    "            elif type(j[i])==tuple:\n",
    "                for x in j[i]:\n",
    "                    lst.append(x)\n",
    "            elif type(j[i])==int:\n",
    "                lst.append(j[i])\n",
    "    elif type(j)==str:\n",
    "        lst.append(j)"
   ]
  },
  {
   "cell_type": "code",
   "execution_count": 33,
   "id": "e8201048-4b4c-4457-95ec-f2b0c85428c9",
   "metadata": {},
   "outputs": [
    {
     "data": {
      "text/plain": [
       "[1,\n",
       " 2,\n",
       " 3,\n",
       " 4,\n",
       " 44,\n",
       " 55,\n",
       " 66,\n",
       " True,\n",
       " False,\n",
       " 34,\n",
       " 56,\n",
       " 78,\n",
       " 89,\n",
       " 34,\n",
       " 1,\n",
       " 2,\n",
       " 3,\n",
       " 34,\n",
       " 55,\n",
       " 67,\n",
       " 78,\n",
       " 89,\n",
       " 45,\n",
       " 22,\n",
       " 61,\n",
       " 34,\n",
       " 56,\n",
       " 'data science',\n",
       " 'Machine Learning']"
      ]
     },
     "execution_count": 33,
     "metadata": {},
     "output_type": "execute_result"
    }
   ],
   "source": [
    "lst"
   ]
  }
 ],
 "metadata": {
  "kernelspec": {
   "display_name": "Python 3 (ipykernel)",
   "language": "python",
   "name": "python3"
  },
  "language_info": {
   "codemirror_mode": {
    "name": "ipython",
    "version": 3
   },
   "file_extension": ".py",
   "mimetype": "text/x-python",
   "name": "python",
   "nbconvert_exporter": "python",
   "pygments_lexer": "ipython3",
   "version": "3.10.8"
  }
 },
 "nbformat": 4,
 "nbformat_minor": 5
}
